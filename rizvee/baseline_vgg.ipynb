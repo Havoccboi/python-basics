{
 "cells": [
  {
   "cell_type": "code",
   "execution_count": 1,
   "id": "fb32263b",
   "metadata": {},
   "outputs": [],
   "source": [
    "import numpy as np\n",
    "import os\n",
    "import cv2\n",
    "import matplotlib.pyplot as plt\n",
    "%matplotlib inline\n",
    "import operator\n",
    "import tensorflow as tf\n",
    "import random\n",
    "from keras.preprocessing.image import ImageDataGenerator"
   ]
  },
  {
   "cell_type": "code",
   "execution_count": 2,
   "id": "23b79cd4",
   "metadata": {},
   "outputs": [],
   "source": [
    "TRAIN_PATH = r'D:/dataset/Train'\n",
    "VAL_PATH = r'D:/dataset/Test'\n",
    "BATCH_SIZE=16\n",
    "r=4\n",
    "c=4\n",
    "#CATEGORIES = ['Air_trapping', 'Aortic_elongation','COPD_Signs','Calcified_granuloma','Callus_rib_fracture','Hiatal_hernia','Kyphosis','Laminar_atelectasis','Normal','Pleural_effusion','Scoliosis','Vascular_hilar_enlargement']"
   ]
  },
  {
   "cell_type": "code",
   "execution_count": 3,
   "id": "ac2931e8",
   "metadata": {},
   "outputs": [
    {
     "name": "stdout",
     "output_type": "stream",
     "text": [
      "Found 34387 images belonging to 12 classes.\n"
     ]
    }
   ],
   "source": [
    "train_datagen = ImageDataGenerator(rescale=1.0/255.0)\n",
    "train_batches = train_datagen.flow_from_directory(TRAIN_PATH,\n",
    "                                                  class_mode='categorical', \n",
    "                                            \n",
    "                                                  batch_size=BATCH_SIZE, \n",
    "                                                  target_size=(256, 256),\n",
    "                                                  shuffle=True,\n",
    "                                                  seed=42\n",
    "                                                  )"
   ]
  },
  {
   "cell_type": "code",
   "execution_count": 4,
   "id": "3b8e13f9",
   "metadata": {},
   "outputs": [
    {
     "name": "stdout",
     "output_type": "stream",
     "text": [
      "Found 8597 images belonging to 12 classes.\n"
     ]
    }
   ],
   "source": [
    "val_datagen = ImageDataGenerator(rescale=1.0/255.0)\n",
    "val_batches = val_datagen.flow_from_directory(VAL_PATH,\n",
    "                                                class_mode='categorical', \n",
    "                                          \n",
    "                                                batch_size=BATCH_SIZE, \n",
    "                                                target_size=(256, 256),\n",
    "                                                shuffle=True,\n",
    "                                                seed=42\n",
    "                                                )"
   ]
  },
  {
   "cell_type": "code",
   "execution_count": 5,
   "id": "4d20e9d4",
   "metadata": {},
   "outputs": [
    {
     "name": "stdout",
     "output_type": "stream",
     "text": [
      "Model: \"vgg16\"\n",
      "_________________________________________________________________\n",
      "Layer (type)                 Output Shape              Param #   \n",
      "=================================================================\n",
      "input_1 (InputLayer)         [(None, 256, 256, 3)]     0         \n",
      "_________________________________________________________________\n",
      "block1_conv1 (Conv2D)        (None, 256, 256, 64)      1792      \n",
      "_________________________________________________________________\n",
      "block1_conv2 (Conv2D)        (None, 256, 256, 64)      36928     \n",
      "_________________________________________________________________\n",
      "block1_pool (MaxPooling2D)   (None, 128, 128, 64)      0         \n",
      "_________________________________________________________________\n",
      "block2_conv1 (Conv2D)        (None, 128, 128, 128)     73856     \n",
      "_________________________________________________________________\n",
      "block2_conv2 (Conv2D)        (None, 128, 128, 128)     147584    \n",
      "_________________________________________________________________\n",
      "block2_pool (MaxPooling2D)   (None, 64, 64, 128)       0         \n",
      "_________________________________________________________________\n",
      "block3_conv1 (Conv2D)        (None, 64, 64, 256)       295168    \n",
      "_________________________________________________________________\n",
      "block3_conv2 (Conv2D)        (None, 64, 64, 256)       590080    \n",
      "_________________________________________________________________\n",
      "block3_conv3 (Conv2D)        (None, 64, 64, 256)       590080    \n",
      "_________________________________________________________________\n",
      "block3_pool (MaxPooling2D)   (None, 32, 32, 256)       0         \n",
      "_________________________________________________________________\n",
      "block4_conv1 (Conv2D)        (None, 32, 32, 512)       1180160   \n",
      "_________________________________________________________________\n",
      "block4_conv2 (Conv2D)        (None, 32, 32, 512)       2359808   \n",
      "_________________________________________________________________\n",
      "block4_conv3 (Conv2D)        (None, 32, 32, 512)       2359808   \n",
      "_________________________________________________________________\n",
      "block4_pool (MaxPooling2D)   (None, 16, 16, 512)       0         \n",
      "_________________________________________________________________\n",
      "block5_conv1 (Conv2D)        (None, 16, 16, 512)       2359808   \n",
      "_________________________________________________________________\n",
      "block5_conv2 (Conv2D)        (None, 16, 16, 512)       2359808   \n",
      "_________________________________________________________________\n",
      "block5_conv3 (Conv2D)        (None, 16, 16, 512)       2359808   \n",
      "_________________________________________________________________\n",
      "block5_pool (MaxPooling2D)   (None, 8, 8, 512)         0         \n",
      "_________________________________________________________________\n",
      "flatten (Flatten)            (None, 32768)             0         \n",
      "_________________________________________________________________\n",
      "fc1 (Dense)                  (None, 4096)              134221824 \n",
      "_________________________________________________________________\n",
      "fc2 (Dense)                  (None, 4096)              16781312  \n",
      "_________________________________________________________________\n",
      "predictions (Dense)          (None, 12)                49164     \n",
      "=================================================================\n",
      "Total params: 165,766,988\n",
      "Trainable params: 165,766,988\n",
      "Non-trainable params: 0\n",
      "_________________________________________________________________\n"
     ]
    }
   ],
   "source": [
    "#'''\n",
    "import tensorflow as tf\n",
    "model = tf.keras.applications.VGG16(\n",
    "    include_top=True,\n",
    "    weights=None,\n",
    "    input_tensor=None,\n",
    "    input_shape=(256,256,3),\n",
    "    pooling=None,\n",
    "    classes=12,\n",
    "    classifier_activation=\"softmax\",\n",
    ")\n",
    "model.summary()\n",
    "#'''"
   ]
  },
  {
   "cell_type": "code",
   "execution_count": 6,
   "id": "66772dea",
   "metadata": {},
   "outputs": [],
   "source": [
    "import tensorflow as tf\n",
    "#from t.keras.optimizers import Adam, RMSprop, SGD\n",
    "adam_opt = tf.keras.optimizers.Adam(lr=1e-5, beta_1=0.9, beta_2=0.999, epsilon=1e-08, decay=1e-4)\n",
    "#sgd_opt = tf.keras.optimizers.SGD(lr=1e-06, momentum=0.9, decay=0.0, nesterov=False)\n",
    "#rmsp_opt = RMSprop(lr=1e-4, decay=0.9)\n",
    "# eve_opt = Eve(lr=1e-4, decay=1E-4, beta_1=0.9, beta_2=0.999, beta_3=0.999, small_k=0.1, big_K=10, epsilon=1e-08)\n",
    "\n",
    "model.compile(optimizer= adam_opt,\n",
    "              loss = 'categorical_crossentropy',\n",
    "              metrics=['accuracy'])"
   ]
  },
  {
   "cell_type": "code",
   "execution_count": 7,
   "id": "e354489a",
   "metadata": {},
   "outputs": [],
   "source": [
    "#import keras\n",
    "import tensorflow.keras as keras\n",
    "#from tensorflow.keras.callbacks import ModelCheckpoint\n",
    "import tensorflow as tf\n",
    "callbacks = [\n",
    "    tf.keras.callbacks.ModelCheckpoint('adam_baseline_vgg.h5', monitor='val_accuracy', save_best_only=True, mode='max'),\n",
    "    tf.keras.callbacks.ReduceLROnPlateau(monitor='val_accuracy', factor=0.1, verbose=1, patience=5, mode='max')]\n"
   ]
  },
  {
   "cell_type": "code",
   "execution_count": 8,
   "id": "fbbf4474",
   "metadata": {},
   "outputs": [
    {
     "name": "stdout",
     "output_type": "stream",
     "text": [
      "Epoch 1/20\n",
      "   2/2149 [..............................] - ETA: 4:19 - loss: 2.4822 - accuracy: 0.4062  WARNING:tensorflow:Callbacks method `on_train_batch_end` is slow compared to the batch time (batch time: 0.0648s vs `on_train_batch_end` time: 0.1775s). Check your callbacks.\n",
      "2149/2149 [==============================] - 849s 395ms/step - loss: 0.9294 - accuracy: 0.7935 - val_loss: 0.9036 - val_accuracy: 0.7939\n",
      "Epoch 2/20\n",
      "2149/2149 [==============================] - 567s 264ms/step - loss: 0.9072 - accuracy: 0.7940 - val_loss: 0.8992 - val_accuracy: 0.7939\n",
      "Epoch 3/20\n",
      "2149/2149 [==============================] - 580s 270ms/step - loss: 0.9009 - accuracy: 0.7940 - val_loss: 0.9093 - val_accuracy: 0.7940\n",
      "Epoch 4/20\n",
      "2149/2149 [==============================] - 604s 281ms/step - loss: 0.8966 - accuracy: 0.7940 - val_loss: 0.8920 - val_accuracy: 0.7939\n",
      "Epoch 5/20\n",
      "2149/2149 [==============================] - 587s 273ms/step - loss: 0.8921 - accuracy: 0.7939 - val_loss: 0.8917 - val_accuracy: 0.7939\n",
      "Epoch 6/20\n",
      "2149/2149 [==============================] - 569s 265ms/step - loss: 0.8898 - accuracy: 0.7940 - val_loss: 0.8910 - val_accuracy: 0.7938\n",
      "Epoch 7/20\n",
      "2149/2149 [==============================] - 568s 264ms/step - loss: 0.8872 - accuracy: 0.7939 - val_loss: 0.8931 - val_accuracy: 0.7940\n",
      "Epoch 8/20\n",
      "2149/2149 [==============================] - ETA: 0s - loss: 0.8844 - accuracy: 0.7940\n",
      "Epoch 00008: ReduceLROnPlateau reducing learning rate to 9.999999747378752e-07.\n",
      "2149/2149 [==============================] - 572s 266ms/step - loss: 0.8844 - accuracy: 0.7940 - val_loss: 0.8917 - val_accuracy: 0.7938\n",
      "Epoch 9/20\n",
      "2149/2149 [==============================] - 564s 262ms/step - loss: 0.8784 - accuracy: 0.7939 - val_loss: 0.8902 - val_accuracy: 0.7938\n",
      "Epoch 10/20\n",
      "2149/2149 [==============================] - 589s 274ms/step - loss: 0.8776 - accuracy: 0.7940 - val_loss: 0.8900 - val_accuracy: 0.7938\n",
      "Epoch 11/20\n",
      "2149/2149 [==============================] - 571s 266ms/step - loss: 0.8774 - accuracy: 0.7939 - val_loss: 0.8889 - val_accuracy: 0.7941\n",
      "Epoch 12/20\n",
      "2149/2149 [==============================] - 595s 277ms/step - loss: 0.8770 - accuracy: 0.7939 - val_loss: 0.8896 - val_accuracy: 0.7939\n",
      "Epoch 13/20\n",
      "2149/2149 [==============================] - 606s 282ms/step - loss: 0.8763 - accuracy: 0.7940 - val_loss: 0.8889 - val_accuracy: 0.7940\n",
      "Epoch 14/20\n",
      "2149/2149 [==============================] - 599s 279ms/step - loss: 0.8761 - accuracy: 0.7940 - val_loss: 0.8897 - val_accuracy: 0.7939\n",
      "Epoch 15/20\n",
      "2149/2149 [==============================] - 641s 298ms/step - loss: 0.8761 - accuracy: 0.7939 - val_loss: 0.8901 - val_accuracy: 0.7939\n",
      "Epoch 16/20\n",
      "2149/2149 [==============================] - ETA: 0s - loss: 0.8756 - accuracy: 0.7940\n",
      "Epoch 00016: ReduceLROnPlateau reducing learning rate to 9.999999974752428e-08.\n",
      "2149/2149 [==============================] - 654s 304ms/step - loss: 0.8756 - accuracy: 0.7940 - val_loss: 0.8892 - val_accuracy: 0.7940\n",
      "Epoch 17/20\n",
      "2149/2149 [==============================] - 594s 276ms/step - loss: 0.8754 - accuracy: 0.7940 - val_loss: 0.8893 - val_accuracy: 0.7940\n",
      "Epoch 18/20\n",
      "2149/2149 [==============================] - 587s 273ms/step - loss: 0.8746 - accuracy: 0.7941 - val_loss: 0.8900 - val_accuracy: 0.7938\n",
      "Epoch 19/20\n",
      "2149/2149 [==============================] - 573s 267ms/step - loss: 0.8752 - accuracy: 0.7939 - val_loss: 0.8888 - val_accuracy: 0.7940\n",
      "Epoch 20/20\n",
      "2149/2149 [==============================] - 574s 267ms/step - loss: 0.8751 - accuracy: 0.7940 - val_loss: 0.8895 - val_accuracy: 0.7939\n"
     ]
    }
   ],
   "source": [
    "history  = model.fit(train_batches, \n",
    "         steps_per_epoch=train_batches.n//train_batches.batch_size,\n",
    "         validation_data=val_batches, \n",
    "         validation_steps=val_batches.n//val_batches.batch_size, \n",
    "         epochs=20, \n",
    "         verbose=1,\n",
    "         callbacks = callbacks)"
   ]
  },
  {
   "cell_type": "code",
   "execution_count": 9,
   "id": "e5b6d3d5",
   "metadata": {},
   "outputs": [
    {
     "data": {
      "image/png": "[encoded data removed]",
      "text/plain": [
       "<Figure size 432x288 with 1 Axes>"
      ]
     },
     "metadata": {
      "needs_background": "light"
     },
     "output_type": "display_data"
    }
   ],
   "source": [
    "plt.plot(history.history['loss'])                                                                                                                                        \n",
    "plt.plot(history.history['val_loss'])                                                                                                                                                                                                                                                     \n",
    "plt.title('Model loss')                                                                                   \n",
    "plt.ylabel('Binary_crossEntropy')                                                                                                                 \n",
    "plt.xlabel('Epoch')                                                                      \n",
    "plt.legend(['Train', 'Validation'], loc='upper left')          \n",
    "plt.show() "
   ]
  },
  {
   "cell_type": "code",
   "execution_count": 10,
   "id": "476cecbd",
   "metadata": {},
   "outputs": [
    {
     "data": {
      "image/png": "[encoded data removed]",
      "text/plain": [
       "<Figure size 432x288 with 1 Axes>"
      ]
     },
     "metadata": {
      "needs_background": "light"
     },
     "output_type": "display_data"
    }
   ],
   "source": [
    "plt.plot(history.history['accuracy'])                                            \n",
    "plt.plot(history.history['val_accuracy'])         \n",
    "plt.title('Model accuracy')                           \n",
    "plt.ylabel('Accuracy')                         \n",
    "plt.xlabel('Epoch')                      \n",
    "plt.legend(['Train', 'Validation'], loc='upper left')\n",
    "plt.show()"
   ]
  },
  {
   "cell_type": "code",
   "execution_count": 11,
   "id": "a8cc5ffa",
   "metadata": {},
   "outputs": [
    {
     "name": "stdout",
     "output_type": "stream",
     "text": [
      "Lowest training loss:  0.8746287822723389\n",
      "Lowest validation loss:  0.8888369202613831\n",
      "Highest training accuracy:  0.7941287755966187\n",
      "Highest validation accuracy:  0.7941107749938965\n"
     ]
    }
   ],
   "source": [
    "print('Lowest training loss: ', min(history.history['loss']))\n",
    "print('Lowest validation loss: ', min(history.history['val_loss']))        \n",
    "print('Highest training accuracy: ', max(history.history['accuracy']))\n",
    "print('Highest validation accuracy: ', max(history.history['val_accuracy']))"
   ]
  },
  {
   "cell_type": "code",
   "execution_count": 15,
   "id": "7df5ba87",
   "metadata": {},
   "outputs": [],
   "source": [
    "#from IPython.display import FileLink\n",
    "#FileLink('./baseline_vgg.h5')\n"
   ]
  },
  {
   "cell_type": "code",
   "execution_count": 14,
   "id": "e6d5fe93",
   "metadata": {},
   "outputs": [],
   "source": [
    "model.save(\"baseline_vgg.h5\")"
   ]
  },
  {
   "cell_type": "code",
   "execution_count": null,
   "id": "a4112e75",
   "metadata": {},
   "outputs": [],
   "source": []
  }
 ],
 "metadata": {
  "kernelspec": {
   "display_name": "Python 3",
   "language": "python",
   "name": "python3"
  },
  "language_info": {
   "codemirror_mode": {
    "name": "ipython",
    "version": 3
   },
   "file_extension": ".py",
   "mimetype": "text/x-python",
   "name": "python",
   "nbconvert_exporter": "python",
   "pygments_lexer": "ipython3",
   "version": "3.8.3"
  }
 },
 "nbformat": 4,
 "nbformat_minor": 5
}
